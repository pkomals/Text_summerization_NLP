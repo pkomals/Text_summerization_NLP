{
 "cells": [
  {
   "cell_type": "code",
   "execution_count": 5,
   "metadata": {},
   "outputs": [],
   "source": [
    "import os"
   ]
  },
  {
   "cell_type": "code",
   "execution_count": 6,
   "metadata": {},
   "outputs": [
    {
     "name": "stdout",
     "output_type": "stream",
     "text": [
      "c:\\Users\\Komal\\anaconda3\\envs\\textsum\\python.exe\n",
      "['c:\\\\Users\\\\Komal\\\\anaconda3\\\\envs\\\\textsum\\\\python38.zip', 'c:\\\\Users\\\\Komal\\\\anaconda3\\\\envs\\\\textsum\\\\DLLs', 'c:\\\\Users\\\\Komal\\\\anaconda3\\\\envs\\\\textsum\\\\lib', 'c:\\\\Users\\\\Komal\\\\anaconda3\\\\envs\\\\textsum', '', 'c:\\\\Users\\\\Komal\\\\anaconda3\\\\envs\\\\textsum\\\\lib\\\\site-packages', 'c:\\\\Users\\\\Komal\\\\anaconda3\\\\envs\\\\textsum\\\\lib\\\\site-packages\\\\win32', 'c:\\\\Users\\\\Komal\\\\anaconda3\\\\envs\\\\textsum\\\\lib\\\\site-packages\\\\win32\\\\lib', 'c:\\\\Users\\\\Komal\\\\anaconda3\\\\envs\\\\textsum\\\\lib\\\\site-packages\\\\Pythonwin']\n"
     ]
    }
   ],
   "source": [
    "import sys\n",
    "print(sys.executable)\n",
    "print(sys.path)\n",
    "sys.path.append(os.path.abspath(\"src\"))"
   ]
  },
  {
   "cell_type": "code",
   "execution_count": 7,
   "metadata": {},
   "outputs": [
    {
     "data": {
      "text/plain": [
       "'c:\\\\Projects\\\\Text_summerization_NLP\\\\research'"
      ]
     },
     "execution_count": 7,
     "metadata": {},
     "output_type": "execute_result"
    }
   ],
   "source": [
    "%pwd"
   ]
  },
  {
   "cell_type": "code",
   "execution_count": 8,
   "metadata": {},
   "outputs": [],
   "source": [
    "os.chdir(\"../\")"
   ]
  },
  {
   "cell_type": "code",
   "execution_count": 9,
   "metadata": {},
   "outputs": [
    {
     "data": {
      "text/plain": [
       "'c:\\\\Projects\\\\Text_summerization_NLP'"
      ]
     },
     "execution_count": 9,
     "metadata": {},
     "output_type": "execute_result"
    }
   ],
   "source": [
    "%pwd"
   ]
  },
  {
   "cell_type": "code",
   "execution_count": 10,
   "metadata": {},
   "outputs": [],
   "source": [
    "from dataclasses import dataclass\n",
    "from pathlib import Path\n",
    "\n",
    "\n",
    "@dataclass(frozen=True)\n",
    "class DataValidationConfig:\n",
    "    root_dir: Path\n",
    "    STATUS_FILE: str\n",
    "    ALL_REQUIRED_FILES: list"
   ]
  },
  {
   "cell_type": "code",
   "execution_count": 2,
   "metadata": {},
   "outputs": [
    {
     "name": "stdout",
     "output_type": "stream",
     "text": [
      "Requirement already satisfied: python-box in c:\\users\\komal\\anaconda3\\envs\\textsum\\lib\\site-packages (7.2.0)\n"
     ]
    }
   ],
   "source": [
    "!pip install python-box"
   ]
  },
  {
   "cell_type": "code",
   "execution_count": 8,
   "metadata": {},
   "outputs": [
    {
     "name": "stdout",
     "output_type": "stream",
     "text": [
      "Requirement already satisfied: pyyaml in c:\\users\\komal\\anaconda3\\envs\\textsum\\lib\\site-packages (6.0.2)\n"
     ]
    }
   ],
   "source": [
    "!pip install pyyaml"
   ]
  },
  {
   "cell_type": "code",
   "execution_count": 9,
   "metadata": {},
   "outputs": [
    {
     "name": "stdout",
     "output_type": "stream",
     "text": [
      "Collecting ensure\n",
      "  Using cached ensure-1.0.4-py3-none-any.whl.metadata (10 kB)\n",
      "Requirement already satisfied: six>=1.11.0 in c:\\users\\komal\\anaconda3\\envs\\textsum\\lib\\site-packages (from ensure) (1.16.0)\n",
      "Using cached ensure-1.0.4-py3-none-any.whl (15 kB)\n",
      "Installing collected packages: ensure\n",
      "Successfully installed ensure-1.0.4\n"
     ]
    }
   ],
   "source": [
    "!pip install ensure"
   ]
  },
  {
   "cell_type": "code",
   "execution_count": 12,
   "metadata": {},
   "outputs": [
    {
     "name": "stderr",
     "output_type": "stream",
     "text": [
      "  DEPRECATION: Legacy editable install of TextSummaizer==0.0.0 from file:///C:/Projects/Text_summerization_NLP (setup.py develop) is deprecated. pip 25.0 will enforce this behaviour change. A possible replacement is to add a pyproject.toml or enable --use-pep517, and use setuptools >= 64. If the resulting installation is not behaving as expected, try using --config-settings editable_mode=compat. Please consult the setuptools documentation for more information. Discussion can be found at https://github.com/pypa/pip/issues/11457\n"
     ]
    },
    {
     "name": "stdout",
     "output_type": "stream",
     "text": [
      "Obtaining file:///C:/Projects/Text_summerization_NLP\n",
      "  Preparing metadata (setup.py): started\n",
      "  Preparing metadata (setup.py): finished with status 'done'\n",
      "Installing collected packages: TextSummaizer\n",
      "  Running setup.py develop for TextSummaizer\n",
      "Successfully installed TextSummaizer\n"
     ]
    }
   ],
   "source": [
    "!pip install -e ."
   ]
  },
  {
   "cell_type": "code",
   "execution_count": 15,
   "metadata": {},
   "outputs": [],
   "source": [
    "sys.path.append(os.path.abspath(\"src\"))"
   ]
  },
  {
   "cell_type": "code",
   "execution_count": 16,
   "metadata": {},
   "outputs": [
    {
     "name": "stdout",
     "output_type": "stream",
     "text": [
      "🔍 CONFIG_FILE_PATH from constant: C:\\Projects\\Text_summerization_NLP\\config\\config.yaml\n",
      "🔍 PARAMS_FILE_PATH from constant: C:\\Projects\\Text_summerization_NLP\\params.yaml\n"
     ]
    }
   ],
   "source": [
    "from TextSummaizer.constants import CONFIG_FILE_PATH, PARAMS_FILE_PATH\n",
    "from TextSummaizer.utils.common import read_yaml, create_directories"
   ]
  },
  {
   "cell_type": "code",
   "execution_count": 17,
   "metadata": {},
   "outputs": [],
   "source": [
    "class ConfigurationManager:\n",
    "    def __init__(\n",
    "        self,\n",
    "        config_filepath = CONFIG_FILE_PATH,\n",
    "        params_filepath = PARAMS_FILE_PATH):\n",
    "\n",
    "        self.config = read_yaml(config_filepath)\n",
    "        self.params = read_yaml(params_filepath)\n",
    "\n",
    "        create_directories([self.config.artifacts_root])\n",
    "\n",
    "\n",
    "    \n",
    "    def get_data_validation_config(self) -> DataValidationConfig:\n",
    "        config = self.config.data_validation\n",
    "\n",
    "        create_directories([config.root_dir])\n",
    "\n",
    "        data_validation_config = DataValidationConfig(\n",
    "            root_dir=config.root_dir,\n",
    "            STATUS_FILE=config.STATUS_FILE,\n",
    "            ALL_REQUIRED_FILES=config.ALL_REQUIRED_FILES,\n",
    "        )\n",
    "\n",
    "        return data_validation_config"
   ]
  },
  {
   "cell_type": "code",
   "execution_count": 18,
   "metadata": {},
   "outputs": [],
   "source": [
    "\n",
    "import os\n",
    "from TextSummaizer.logging import logger"
   ]
  },
  {
   "cell_type": "code",
   "execution_count": 19,
   "metadata": {},
   "outputs": [],
   "source": [
    "class DataValiadtion:\n",
    "    def __init__(self, config: DataValidationConfig):\n",
    "        self.config = config\n",
    "\n",
    "\n",
    "    \n",
    "    def validate_all_files_exist(self)-> bool:\n",
    "        try:            \n",
    "\n",
    "            all_files = os.listdir(os.path.join(\"artifacts\",\"data_ingetion\",\"samsum_dataset\"))\n",
    "            validation_status = True\n",
    "            dataset_path = os.path.join(\"artifacts\",\"data_ingetion\",\"samsum_dataset\")\n",
    "\n",
    "            print(f\"🔍 Checking dataset path: {os.path.abspath(dataset_path)}\")\n",
    "            print(f\"🔍 Expected files: {self.config.ALL_REQUIRED_FILES}\")\n",
    "\n",
    "            if not os.path.exists(dataset_path):\n",
    "                print(f\"❌ ERROR: Directory '{dataset_path}' does not exist!\")\n",
    "                validation_status = False\n",
    "            else:\n",
    "                existing_files = set(os.listdir(dataset_path))\n",
    "                missing_files = [file for file in self.config.ALL_REQUIRED_FILES if file not in existing_files]\n",
    "\n",
    "                if missing_files:\n",
    "                    print(f\"❌ Missing files: {missing_files}\")\n",
    "                    validation_status = False\n",
    "                else:\n",
    "                    print(f\"✅ All required files are present.\")\n",
    "\n",
    "            # ✅ Write status only once (instead of inside the loop)\n",
    "            with open(self.config.STATUS_FILE, 'w') as f:\n",
    "                f.write(f\"Validation status: {validation_status}\")\n",
    "\n",
    "            return validation_status\n",
    "\n",
    "        except Exception as e:\n",
    "            raise e\n",
    "\n",
    "            \n",
    "        #     for file in all_files:\n",
    "        #         if file not in self.config.ALL_REQUIRED_FILES:\n",
    "        #             validation_status = False\n",
    "        #             with open(self.config.STATUS_FILE, 'w') as f:\n",
    "        #                 f.write(f\"Validation status: {validation_status}\")\n",
    "        #         else:\n",
    "        #             validation_status = True\n",
    "        #             with open(self.config.STATUS_FILE, 'w') as f:\n",
    "        #                 f.write(f\"Validation status: {validation_status}\")\n",
    "\n",
    "        #     return validation_status\n",
    "        \n",
    "        # except Exception as e:\n",
    "        #     raise e"
   ]
  },
  {
   "cell_type": "code",
   "execution_count": null,
   "metadata": {},
   "outputs": [],
   "source": [
    "!pip install python-box"
   ]
  },
  {
   "cell_type": "code",
   "execution_count": 20,
   "metadata": {},
   "outputs": [
    {
     "name": "stdout",
     "output_type": "stream",
     "text": [
      "[2025-03-27 23:43:28,280: INFO: common: yaml file: C:\\Projects\\Text_summerization_NLP\\config\\config.yaml loaded successfully]\n",
      "[2025-03-27 23:43:28,290: INFO: common: yaml file: C:\\Projects\\Text_summerization_NLP\\params.yaml loaded successfully]\n",
      "[2025-03-27 23:43:28,294: INFO: common: created directory at: artifacts]\n",
      "[2025-03-27 23:43:28,296: INFO: common: created directory at: artifacts/data_validation]\n",
      "🔍 Checking dataset path: c:\\Projects\\Text_summerization_NLP\\artifacts\\data_ingetion\\samsum_dataset\n",
      "🔍 Expected files: ['train', 'test', 'validation']\n",
      "✅ All required files are present.\n"
     ]
    }
   ],
   "source": [
    "try:\n",
    "    config = ConfigurationManager()\n",
    "    data_validation_config = config.get_data_validation_config()\n",
    "    data_validation = DataValiadtion(config=data_validation_config)\n",
    "    data_validation.validate_all_files_exist()\n",
    "except Exception as e:\n",
    "    raise e"
   ]
  },
  {
   "cell_type": "code",
   "execution_count": null,
   "metadata": {},
   "outputs": [],
   "source": []
  }
 ],
 "metadata": {
  "kernelspec": {
   "display_name": "textsum",
   "language": "python",
   "name": "python3"
  },
  "language_info": {
   "codemirror_mode": {
    "name": "ipython",
    "version": 3
   },
   "file_extension": ".py",
   "mimetype": "text/x-python",
   "name": "python",
   "nbconvert_exporter": "python",
   "pygments_lexer": "ipython3",
   "version": "3.8.20"
  }
 },
 "nbformat": 4,
 "nbformat_minor": 2
}
